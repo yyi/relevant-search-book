{
 "cells": [
  {
   "cell_type": "markdown",
   "metadata": {},
   "source": [
    "# Setup"
   ]
  },
  {
   "cell_type": "code",
   "execution_count": 1,
   "metadata": {},
   "outputs": [],
   "source": [
    "#import\n",
    "from elasticsearch import Elasticsearch\n",
    "from elasticsearch import helpers\n",
    "import pickle"
   ]
  },
  {
   "cell_type": "code",
   "execution_count": 2,
   "metadata": {},
   "outputs": [],
   "source": [
    "#initialize\n",
    "es = Elasticsearch()"
   ]
  },
  {
   "cell_type": "code",
   "execution_count": 3,
   "metadata": {},
   "outputs": [],
   "source": [
    "movies=pickle.load(open(\"../movies.p\",\"r\"))"
   ]
  },
  {
   "cell_type": "code",
   "execution_count": 4,
   "metadata": {},
   "outputs": [
    {
     "data": {
      "text/plain": [
       "{u'acknowledged': True}"
      ]
     },
     "execution_count": 4,
     "metadata": {},
     "output_type": "execute_result"
    }
   ],
   "source": [
    "try:\n",
    "    es.indices.delete(\"tmdb\")\n",
    "except:\n",
    "    pass\n",
    "\n",
    "#create index here?\n",
    "# genres.name needs to be keyword tokenized so that 'science fiction' doesn't get split on white space\n",
    "# maybe create a text field with title and overview to search against\n",
    "body = {\n",
    "    \"mappings\": {\n",
    "      \"movie\": {\n",
    "        \"properties\": {\n",
    "          \"title\": {\n",
    "            \"type\": \"string\",\n",
    "            \"analyzer\": \"english\",\n",
    "            \"term_vector\": \"with_positions_offsets\"},\n",
    "          \"overview\": {\n",
    "            \"type\": \"string\",\n",
    "            \"analyzer\": \"english\",\n",
    "            \"term_vector\": \"with_positions_offsets\"}}}}}\n",
    "es.indices.create(\"tmdb\",body=body)"
   ]
  },
  {
   "cell_type": "code",
   "execution_count": 5,
   "metadata": {},
   "outputs": [],
   "source": [
    "#doc indexer\n",
    "def format_doc(doc):\n",
    "    action = {\n",
    "        \"_index\": \"tmdb\",\n",
    "        \"_type\": \"movie\",\n",
    "        \"_id\": doc['id'],\n",
    "        \"_source\": doc\n",
    "        }\n",
    "    return action\n",
    "\n",
    "def index_movies():\n",
    "    actions = (format_doc(doc) for doc in movies)\n",
    "    results = [details for success,details in helpers.streaming_bulk(es, actions) if not success]\n",
    "    return results"
   ]
  },
  {
   "cell_type": "code",
   "execution_count": 6,
   "metadata": {},
   "outputs": [],
   "source": [
    "results = index_movies()"
   ]
  },
  {
   "cell_type": "markdown",
   "metadata": {},
   "source": [
    "# Examples"
   ]
  },
  {
   "cell_type": "markdown",
   "metadata": {},
   "source": [
    "## Highlighting"
   ]
  },
  {
   "cell_type": "code",
   "execution_count": 7,
   "metadata": {},
   "outputs": [
    {
     "data": {
      "text/plain": [
       "{u'_shards': {u'failed': 0, u'successful': 5, u'total': 5},\n",
       " u'hits': {u'hits': [{u'_id': u'13475',\n",
       "    u'_index': u'tmdb',\n",
       "    u'_score': 0.9679569,\n",
       "    u'_type': u'movie',\n",
       "    u'fields': {u'overview': [u'The fate of the galaxy rests in the hands of bitter rivals. One, James Kirk, is a delinquent, thrill-seeking Iowa farm boy. The other, Spock, a Vulcan, was raised in a logic-based society that rejects all emotion. As fiery instinct clashes with calm reason, their unlikely but powerful partnership is the only thing capable of leading their crew through unimaginable danger, boldly going where no one has gone before. The human adventure has begun again.'],\n",
       "     u'title': [u'Star Trek']},\n",
       "    u'highlight': {u'overview': [u'The fate of the galaxy rests in the hands of bitter rivals. One, James Kirk, is a delinquent, thrill-seeking'],\n",
       "     u'title': [u'Star <em class=\"hlt2\">Trek</em>']}},\n",
       "   {u'_id': u'54138',\n",
       "    u'_index': u'tmdb',\n",
       "    u'_score': 0.7806988,\n",
       "    u'_type': u'movie',\n",
       "    u'fields': {u'overview': [u'When the crew of the Enterprise is called back home, they find an unstoppable force of terror from within their own organization has detonated the fleet and everything it stands for, leaving our world in a state of crisis.  With a personal score to settle, Captain Kirk leads a manhunt to a war-zone world to capture a one man weapon of mass destruction. As our heroes are propelled into an epic chess game of life and death, love will be challenged, friendships will be torn apart, and sacrifices must be made for the only family Kirk has left: his crew.'],\n",
       "     u'title': [u'Star Trek Into Darkness']},\n",
       "    u'highlight': {u'overview': [u'When the crew of the Enterprise is called back home, they find an unstoppable force of terror from within'],\n",
       "     u'title': [u'Star <em class=\"hlt2\">Trek</em> Into Darkness']}}],\n",
       "  u'max_score': 0.9679569,\n",
       "  u'total': 2},\n",
       " u'timed_out': False,\n",
       " u'took': 17}"
      ]
     },
     "execution_count": 7,
     "metadata": {},
     "output_type": "execute_result"
    }
   ],
   "source": [
    "# highlighting\n",
    "# notice that \n",
    "body = {\n",
    "    \"fields\": [\"title\",\"overview\"],\n",
    "    \"query\":{\n",
    "        \"match\":{\n",
    "            \"title\": \"stasr trek\"}},\n",
    "    \"highlight\": {\n",
    "        \"order\" : \"score\",  # probably doesn't matter much for such a short field\n",
    "        \"type\" : \"fvh\",\n",
    "        \"fields\": {\n",
    "          \"title\": {\n",
    "            \"number_of_fragments\": 0},  # to ensure that the entire title is returned \n",
    "          \"overview\": {\n",
    "            \"fragment_size\": 100,\n",
    "            \"number_of_fragments\": 3,\n",
    "            \"no_match_size\": 100 }\n",
    "        },\n",
    "        \"pre_tags\" : [\"<em class=\\\"hlt1\\\">\",\"<em class=\\\"hlt2\\\">\"],\n",
    "        \"post_tags\" : [\"</em>\"]}}\n",
    "es.search(index=\"tmdb\",body=body,size=100)"
   ]
  },
  {
   "cell_type": "markdown",
   "metadata": {},
   "source": [
    "## Grouping"
   ]
  },
  {
   "cell_type": "code",
   "execution_count": 8,
   "metadata": {},
   "outputs": [
    {
     "data": {
      "text/plain": [
       "{u'_shards': {u'failed': 0, u'successful': 5, u'total': 5},\n",
       " u'aggregations': {u'statuses': {u'buckets': [{u'doc_count': 9,\n",
       "     u'hits': {u'hits': {u'hits': [{u'_id': u'13475',\n",
       "         u'_index': u'tmdb',\n",
       "         u'_score': 3.991081,\n",
       "         u'_source': {u'adult': False,\n",
       "          u'backdrop_path': u'/1XOSh6BFZbQ0xN75m4avqgzClyG.jpg',\n",
       "          u'belongs_to_collection': {u'backdrop_path': u'/suPwXZLPMXQz7Cl6zjBQ9SJoRJ6.jpg',\n",
       "           u'id': 115575,\n",
       "           u'name': u'Star Trek: Alternate Reality Collection',\n",
       "           u'poster_path': u'/w2IVqa43Ge49mrY3qSaJWpyDtz6.jpg'},\n",
       "          u'budget': 150000000,\n",
       "          u'genres': [{u'id': 28, u'name': u'Action'},\n",
       "           {u'id': 12, u'name': u'Adventure'},\n",
       "           {u'id': 878, u'name': u'Science Fiction'}],\n",
       "          u'homepage': u'http://www.startrekmovie.com/',\n",
       "          u'id': 13475,\n",
       "          u'imdb_id': u'tt0796366',\n",
       "          u'original_language': u'en',\n",
       "          u'original_title': u'Star Trek',\n",
       "          u'overview': u'The fate of the galaxy rests in the hands of bitter rivals. One, James Kirk, is a delinquent, thrill-seeking Iowa farm boy. The other, Spock, a Vulcan, was raised in a logic-based society that rejects all emotion. As fiery instinct clashes with calm reason, their unlikely but powerful partnership is the only thing capable of leading their crew through unimaginable danger, boldly going where no one has gone before. The human adventure has begun again.',\n",
       "          u'popularity': 2.80986911229448,\n",
       "          u'poster_path': u'/fM0LKKgP0dtjNXQnAGA8WC1qr8h.jpg',\n",
       "          u'production_companies': [{u'id': 4, u'name': u'Paramount Pictures'},\n",
       "           {u'id': 11461, u'name': u'Bad Robot'},\n",
       "           {u'id': 158, u'name': u'Spyglass Entertainment'},\n",
       "           {u'id': 23419, u'name': u'MavroCine Pictures GmbH & Co. KG'}],\n",
       "          u'production_countries': [{u'iso_3166_1': u'DE',\n",
       "            u'name': u'Germany'},\n",
       "           {u'iso_3166_1': u'US', u'name': u'United States of America'}],\n",
       "          u'release_date': u'2009-05-07',\n",
       "          u'revenue': 385680446,\n",
       "          u'runtime': 127,\n",
       "          u'spoken_languages': [{u'iso_639_1': u'en', u'name': u'English'}],\n",
       "          u'status': u'Released',\n",
       "          u'tagline': u'The future begins',\n",
       "          u'title': u'Star Trek',\n",
       "          u'video': False,\n",
       "          u'vote_average': 7.3,\n",
       "          u'vote_count': 2333},\n",
       "         u'_type': u'movie'},\n",
       "        {u'_id': u'54138',\n",
       "         u'_index': u'tmdb',\n",
       "         u'_score': 3.0516927,\n",
       "         u'_source': {u'adult': False,\n",
       "          u'backdrop_path': u'/mZDS11lSL7WXhDOeNQUnPEkMK0L.jpg',\n",
       "          u'belongs_to_collection': {u'backdrop_path': u'/suPwXZLPMXQz7Cl6zjBQ9SJoRJ6.jpg',\n",
       "           u'id': 115575,\n",
       "           u'name': u'Star Trek: Alternate Reality Collection',\n",
       "           u'poster_path': u'/w2IVqa43Ge49mrY3qSaJWpyDtz6.jpg'},\n",
       "          u'budget': 185000000,\n",
       "          u'genres': [{u'id': 28, u'name': u'Action'},\n",
       "           {u'id': 12, u'name': u'Adventure'},\n",
       "           {u'id': 878, u'name': u'Science Fiction'}],\n",
       "          u'homepage': u'http://www.startrekmovie.com/',\n",
       "          u'id': 54138,\n",
       "          u'imdb_id': u'tt1408101',\n",
       "          u'original_language': u'en',\n",
       "          u'original_title': u'Star Trek Into Darkness',\n",
       "          u'overview': u'When the crew of the Enterprise is called back home, they find an unstoppable force of terror from within their own organization has detonated the fleet and everything it stands for, leaving our world in a state of crisis.  With a personal score to settle, Captain Kirk leads a manhunt to a war-zone world to capture a one man weapon of mass destruction. As our heroes are propelled into an epic chess game of life and death, love will be challenged, friendships will be torn apart, and sacrifices must be made for the only family Kirk has left: his crew.',\n",
       "          u'popularity': 2.98614545811009,\n",
       "          u'poster_path': u'/41mhrXASAW3sdn7LBWF49uCX0xi.jpg',\n",
       "          u'production_companies': [{u'id': 11461, u'name': u'Bad Robot'},\n",
       "           {u'id': 4, u'name': u'Paramount Pictures'},\n",
       "           {u'id': 12536, u'name': u'Kurtzman/Orci'},\n",
       "           {u'id': 6277, u'name': u'Skydance Productions'}],\n",
       "          u'production_countries': [{u'iso_3166_1': u'US',\n",
       "            u'name': u'United States of America'}],\n",
       "          u'release_date': u'2013-05-16',\n",
       "          u'revenue': 467365246,\n",
       "          u'runtime': 132,\n",
       "          u'spoken_languages': [{u'iso_639_1': u'en', u'name': u'English'}],\n",
       "          u'status': u'Released',\n",
       "          u'tagline': u'Earth Will Fall',\n",
       "          u'title': u'Star Trek Into Darkness',\n",
       "          u'video': False,\n",
       "          u'vote_average': 7.5,\n",
       "          u'vote_count': 2242},\n",
       "         u'_type': u'movie'},\n",
       "        {u'_id': u'222935',\n",
       "         u'_index': u'tmdb',\n",
       "         u'_score': 0.68552226,\n",
       "         u'_source': {u'adult': False,\n",
       "          u'backdrop_path': u'/hZWp4W5aQvGm1WiiGFYIuBUOQ3K.jpg',\n",
       "          u'belongs_to_collection': None,\n",
       "          u'budget': 12000000,\n",
       "          u'genres': [{u'id': 18, u'name': u'Drama'},\n",
       "           {u'id': 10749, u'name': u'Romance'}],\n",
       "          u'homepage': u'',\n",
       "          u'id': 222935,\n",
       "          u'imdb_id': u'tt2582846',\n",
       "          u'original_language': u'en',\n",
       "          u'original_title': u'The Fault in Our Stars',\n",
       "          u'overview': u\"Despite the tumor-shrinking medical miracle that has bought her a few years, Hazel has never been anything but terminal, her final chapter inscribed upon diagnosis. But when a patient named Augustus Waters suddenly appears at Cancer Kid Support Group, Hazel's story is about to be completely rewritten.\",\n",
       "          u'popularity': 2.65854973450609,\n",
       "          u'poster_path': u'/sc6XLX6J714LDkVV3Ys3clgypQS.jpg',\n",
       "          u'production_companies': [{u'id': 722,\n",
       "            u'name': u'Temple Hill Productions'},\n",
       "           {u'id': 22573, u'name': u'20th Century Fox Film Corporation'}],\n",
       "          u'production_countries': [{u'iso_3166_1': u'US',\n",
       "            u'name': u'United States of America'}],\n",
       "          u'release_date': u'2014-05-16',\n",
       "          u'revenue': 0,\n",
       "          u'runtime': 125,\n",
       "          u'spoken_languages': [{u'iso_639_1': u'en', u'name': u'English'}],\n",
       "          u'status': u'Released',\n",
       "          u'tagline': u'One Sick Love Story',\n",
       "          u'title': u'The Fault in Our Stars',\n",
       "          u'video': False,\n",
       "          u'vote_average': 8.2,\n",
       "          u'vote_count': 784},\n",
       "         u'_type': u'movie'}],\n",
       "       u'max_score': 3.991081,\n",
       "       u'total': 9}},\n",
       "     u'key': u'released'}],\n",
       "   u'doc_count_error_upper_bound': 0,\n",
       "   u'sum_other_doc_count': 0}},\n",
       " u'hits': {u'hits': [], u'max_score': 0.0, u'total': 9},\n",
       " u'timed_out': False,\n",
       " u'took': 21}"
      ]
     },
     "execution_count": 8,
     "metadata": {},
     "output_type": "execute_result"
    }
   ],
   "source": [
    "# grouping according to movie status\n",
    "body = {\n",
    "    \"query\":{\n",
    "        \"match\":{\n",
    "            \"title\": \"stars trek\"}},\n",
    "    \"aggs\": {\n",
    "        \"statuses\": {\n",
    "            \"terms\": {\"field\":\"status\"},\n",
    "            \"aggs\": {\n",
    "                \"hits\": {\n",
    "                    \"top_hits\": {}}}}}}\n",
    "es.search(index=\"tmdb\",body=body,search_type=\"count\")"
   ]
  },
  {
   "cell_type": "code",
   "execution_count": 10,
   "metadata": {},
   "outputs": [
    {
     "data": {
      "text/plain": [
       "{u'_shards': {u'failed': 0, u'successful': 5, u'total': 5},\n",
       " u'aggregations': {u'statuses': {u'buckets': [{u'doc_count': 9,\n",
       "     u'hits': {u'hits': {u'hits': [{u'_id': u'13475',\n",
       "         u'_index': u'tmdb',\n",
       "         u'_score': 3.991081,\n",
       "         u'_source': {u'adult': False,\n",
       "          u'backdrop_path': u'/1XOSh6BFZbQ0xN75m4avqgzClyG.jpg',\n",
       "          u'belongs_to_collection': {u'backdrop_path': u'/suPwXZLPMXQz7Cl6zjBQ9SJoRJ6.jpg',\n",
       "           u'id': 115575,\n",
       "           u'name': u'Star Trek: Alternate Reality Collection',\n",
       "           u'poster_path': u'/w2IVqa43Ge49mrY3qSaJWpyDtz6.jpg'},\n",
       "          u'budget': 150000000,\n",
       "          u'genres': [{u'id': 28, u'name': u'Action'},\n",
       "           {u'id': 12, u'name': u'Adventure'},\n",
       "           {u'id': 878, u'name': u'Science Fiction'}],\n",
       "          u'homepage': u'http://www.startrekmovie.com/',\n",
       "          u'id': 13475,\n",
       "          u'imdb_id': u'tt0796366',\n",
       "          u'original_language': u'en',\n",
       "          u'original_title': u'Star Trek',\n",
       "          u'overview': u'The fate of the galaxy rests in the hands of bitter rivals. One, James Kirk, is a delinquent, thrill-seeking Iowa farm boy. The other, Spock, a Vulcan, was raised in a logic-based society that rejects all emotion. As fiery instinct clashes with calm reason, their unlikely but powerful partnership is the only thing capable of leading their crew through unimaginable danger, boldly going where no one has gone before. The human adventure has begun again.',\n",
       "          u'popularity': 2.80986911229448,\n",
       "          u'poster_path': u'/fM0LKKgP0dtjNXQnAGA8WC1qr8h.jpg',\n",
       "          u'production_companies': [{u'id': 4, u'name': u'Paramount Pictures'},\n",
       "           {u'id': 11461, u'name': u'Bad Robot'},\n",
       "           {u'id': 158, u'name': u'Spyglass Entertainment'},\n",
       "           {u'id': 23419, u'name': u'MavroCine Pictures GmbH & Co. KG'}],\n",
       "          u'production_countries': [{u'iso_3166_1': u'DE',\n",
       "            u'name': u'Germany'},\n",
       "           {u'iso_3166_1': u'US', u'name': u'United States of America'}],\n",
       "          u'release_date': u'2009-05-07',\n",
       "          u'revenue': 385680446,\n",
       "          u'runtime': 127,\n",
       "          u'spoken_languages': [{u'iso_639_1': u'en', u'name': u'English'}],\n",
       "          u'status': u'Released',\n",
       "          u'tagline': u'The future begins',\n",
       "          u'title': u'Star Trek',\n",
       "          u'video': False,\n",
       "          u'vote_average': 7.3,\n",
       "          u'vote_count': 2333},\n",
       "         u'_type': u'movie'}],\n",
       "       u'max_score': 3.991081,\n",
       "       u'total': 9}},\n",
       "     u'key': u'released',\n",
       "     u'top_score': {u'value': 3.9910809993743896}}],\n",
       "   u'doc_count_error_upper_bound': 0,\n",
       "   u'sum_other_doc_count': 0}},\n",
       " u'hits': {u'hits': [], u'max_score': 0.0, u'total': 9},\n",
       " u'timed_out': False,\n",
       " u'took': 6}"
      ]
     },
     "execution_count": 10,
     "metadata": {},
     "output_type": "execute_result"
    }
   ],
   "source": [
    "# field collapsing according to language\n",
    "body = {\n",
    "    \"query\":{\n",
    "        \"match\":{\n",
    "            \"title\": \"stars trek\"}},\n",
    "    \"aggs\": {\n",
    "        \"statuses\": {\n",
    "            \"terms\": {\n",
    "                \"field\":\"status\",\n",
    "                \"order\": {\"top_score\": \"desc\"}}, \n",
    "            \"aggs\": {\n",
    "                \"hits\": {\n",
    "                    \"top_hits\": {\"size\":1}},\n",
    "                \"top_score\": {\n",
    "                    \"max\": { \"script\": \"_score\"}}\n",
    "            }}}}\n",
    "es.search(index=\"tmdb\",body=body,search_type=\"count\")"
   ]
  },
  {
   "cell_type": "code",
   "execution_count": null,
   "metadata": {
    "collapsed": true
   },
   "outputs": [],
   "source": []
  }
 ],
 "metadata": {
  "kernelspec": {
   "display_name": "Python 2",
   "language": "python",
   "name": "python2"
  },
  "language_info": {
   "codemirror_mode": {
    "name": "ipython",
    "version": 2
   },
   "file_extension": ".py",
   "mimetype": "text/x-python",
   "name": "python",
   "nbconvert_exporter": "python",
   "pygments_lexer": "ipython2",
   "version": "2.7.16"
  }
 },
 "nbformat": 4,
 "nbformat_minor": 1
}
