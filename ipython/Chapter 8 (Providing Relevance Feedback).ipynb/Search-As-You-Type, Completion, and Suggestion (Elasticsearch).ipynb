{
 "cells": [
  {
   "cell_type": "markdown",
   "metadata": {},
   "source": [
    "# Setup"
   ]
  },
  {
   "cell_type": "code",
   "execution_count": 1,
   "metadata": {},
   "outputs": [],
   "source": [
    "#import\n",
    "from elasticsearch import Elasticsearch\n",
    "from elasticsearch import helpers\n",
    "import pickle"
   ]
  },
  {
   "cell_type": "code",
   "execution_count": 2,
   "metadata": {
    "scrolled": true
   },
   "outputs": [],
   "source": [
    "#initialize\n",
    "es = Elasticsearch()"
   ]
  },
  {
   "cell_type": "code",
   "execution_count": 3,
   "metadata": {},
   "outputs": [],
   "source": [
    "movies=pickle.load(open(\"../movies.p\",\"r\"))"
   ]
  },
  {
   "cell_type": "markdown",
   "metadata": {},
   "source": [
    "# Search Completion"
   ]
  },
  {
   "cell_type": "markdown",
   "metadata": {},
   "source": [
    "## Completions from the Documents Being Searched"
   ]
  },
  {
   "cell_type": "code",
   "execution_count": 4,
   "metadata": {},
   "outputs": [
    {
     "data": {
      "text/plain": [
       "{u'acknowledged': True}"
      ]
     },
     "execution_count": 4,
     "metadata": {},
     "output_type": "execute_result"
    }
   ],
   "source": [
    "try:\n",
    "    es.indices.delete(\"tmdb\")\n",
    "except:\n",
    "    pass\n",
    "\n",
    "#create index here?\n",
    "# genres.name needs to be keyword tokenized so that 'science fiction' doesn't get split on white space\n",
    "# maybe create a text field with title and overview to search against\n",
    "body = {\n",
    "    \"settings\": {\n",
    "    \"analysis\": {\n",
    "      \"filter\": {\n",
    "        \"shingle_2\": {\n",
    "          \"type\":\"shingle\",\n",
    "          \"output_unigrams\":\"false\"}},\n",
    "      \"analyzer\": {\n",
    "        \"completion_analyzer\": {\n",
    "          \"tokenizer\":  \"standard\",\n",
    "          \"filter\": [\n",
    "            \"standard\", \n",
    "            \"lowercase\", \n",
    "            \"shingle_2\"]}}}},\n",
    "    \"mappings\": {\n",
    "      \"movie\": {\n",
    "        \"properties\": {\n",
    "          \"genres\": {\n",
    "            \"properties\": {\n",
    "              \"name\": { \n",
    "                \"type\": \"string\",\n",
    "                \"index\": \"not_analyzed\"}}},\n",
    "          \"title\": {\n",
    "            \"type\": \"string\",\n",
    "            \"analyzer\": \"english\",\n",
    "            \"copy_to\":[\"completion\"]},\n",
    "          \"completion\": {\n",
    "            \"type\": \"string\",\n",
    "            \"analyzer\": \"completion_analyzer\"}}}}}\n",
    "es.indices.create(\"tmdb\",body=body)"
   ]
  },
  {
   "cell_type": "code",
   "execution_count": 5,
   "metadata": {},
   "outputs": [],
   "source": [
    "#doc indexer\n",
    "def format_doc(doc):\n",
    "    action = {\n",
    "        \"_index\": \"tmdb\",\n",
    "        \"_type\": \"movie\",\n",
    "        \"_id\": doc['id'],\n",
    "        \"_source\": doc\n",
    "        }\n",
    "    return action\n",
    "\n",
    "def index_movies():\n",
    "    actions = (format_doc(doc) for doc in movies)\n",
    "    results = [details for success,details in helpers.streaming_bulk(es, actions) if not success]\n",
    "    return results"
   ]
  },
  {
   "cell_type": "code",
   "execution_count": 6,
   "metadata": {},
   "outputs": [],
   "source": [
    "results = index_movies()"
   ]
  },
  {
   "cell_type": "code",
   "execution_count": 7,
   "metadata": {},
   "outputs": [
    {
     "name": "stdout",
     "output_type": "stream",
     "text": [
      "{'fields': ['title'], 'aggs': {'completion': {'terms': {'field': 'completion', 'include': 'tr.*'}}}, 'query': {'match_phrase_prefix': {'title': {'query': 'star tr'}}}}\n"
     ]
    },
    {
     "data": {
      "text/plain": [
       "{u'_shards': {u'failed': 0, u'successful': 5, u'total': 5},\n",
       " u'aggregations': {u'completion': {u'buckets': [],\n",
       "   u'doc_count_error_upper_bound': 0,\n",
       "   u'sum_other_doc_count': 0}},\n",
       " u'hits': {u'hits': [], u'max_score': None, u'total': 0},\n",
       " u'timed_out': False,\n",
       " u'took': 24}"
      ]
     },
     "execution_count": 7,
     "metadata": {},
     "output_type": "execute_result"
    }
   ],
   "source": [
    "def get_completion_query(input_string):\n",
    "    \n",
    "    query_body = {\n",
    "    \"fields\": [\"title\"],\n",
    "    \"query\" : {\n",
    "        \"match_phrase_prefix\" : {\n",
    "            \"title\" : {\n",
    "                \"query\" : input_string}}}}\n",
    "\n",
    "    #if the input string is too short, then don't attempt completion\n",
    "    if len(input_string) < 3:\n",
    "        return query_body\n",
    "    \n",
    "    #get the last uncompleted string\n",
    "    input_string = input_string.lstrip()\n",
    "    last_space_index = input_string.rfind(' ')\n",
    "    prefix = input_string[last_space_index+1:]\n",
    "    \n",
    "    #if the prefix is 1 or less chars then include the previous word in the prefix\n",
    "    if len(prefix) <= 1:\n",
    "        previous_space_index = input_string[:last_space_index].rfind(' ')\n",
    "        prefix = input_string[previous_space_index+1:]\n",
    "        \n",
    "    query_body['aggs'] = {\n",
    "        'completion': {\n",
    "            'terms': {\n",
    "                'field':'completion',\n",
    "                'include': '%s.*' % prefix\n",
    "            }\n",
    "        }\n",
    "    }\n",
    "    return query_body\n",
    "    \n",
    "\n",
    "query_body = get_completion_query(\"star tr\")\n",
    "print query_body\n",
    "es.search(index=\"tmdb\",doc_type=\"movie\",body=query_body)"
   ]
  },
  {
   "cell_type": "markdown",
   "metadata": {},
   "source": [
    "## Fast Completions Via Specialized Search Indices"
   ]
  },
  {
   "cell_type": "code",
   "execution_count": 25,
   "metadata": {},
   "outputs": [
    {
     "data": {
      "text/plain": [
       "{u'acknowledged': True}"
      ]
     },
     "execution_count": 25,
     "metadata": {},
     "output_type": "execute_result"
    }
   ],
   "source": [
    "try:\n",
    "    es.indices.delete(\"tmdb\")\n",
    "except:\n",
    "    pass\n",
    "\n",
    "#create index here?\n",
    "# genres.name needs to be keyword tokenized so that 'science fiction' doesn't get split on white space\n",
    "# maybe create a text field with title and overview to search against\n",
    "body = {\n",
    "    \"mappings\": {\n",
    "      \"movie\": {\n",
    "        \"properties\": {\n",
    "          \"genres\": {\n",
    "            \"properties\": {\n",
    "              \"name\": { \n",
    "                \"type\": \"string\",\n",
    "                \"index\": \"not_analyzed\"}}},\n",
    "          \"title\": {\n",
    "            \"type\": \"string\",\n",
    "            \"analyzer\": \"english\"},\n",
    "          \"completion\": {\n",
    "            \"type\": \"completion\"}}}}}\n",
    "es.indices.create(\"tmdb\",body=body)"
   ]
  },
  {
   "cell_type": "code",
   "execution_count": 26,
   "metadata": {},
   "outputs": [],
   "source": [
    "#doc indexer\n",
    "def format_doc(doc):\n",
    "    doc[\"completion\"] = {\n",
    "        \"input\": [doc[\"title\"]],\n",
    "        \"weight\": int(doc[\"popularity\"]*100)\n",
    "    }\n",
    "    action = {\n",
    "        \"_index\": \"tmdb\",\n",
    "        \"_type\": \"movie\",\n",
    "        \"_id\": doc['id'],\n",
    "        \"_source\": doc\n",
    "        }\n",
    "    return action\n",
    "\n",
    "def index_movies():\n",
    "    actions = (format_doc(doc) for doc in movies)\n",
    "    results = [details for success,details in helpers.streaming_bulk(es, actions) if not success]\n",
    "    return results"
   ]
  },
  {
   "cell_type": "code",
   "execution_count": 27,
   "metadata": {},
   "outputs": [],
   "source": [
    "results = index_movies()"
   ]
  },
  {
   "cell_type": "code",
   "execution_count": 28,
   "metadata": {
    "scrolled": true
   },
   "outputs": [
    {
     "data": {
      "text/plain": [
       "{u'_shards': {u'failed': 0, u'successful': 5, u'total': 5},\n",
       " u'title_completion': [{u'length': 4,\n",
       "   u'offset': 0,\n",
       "   u'options': [{u'score': 312.0,\n",
       "     u'text': u'Star Wars: Episode IV - A New Hope'},\n",
       "    {u'score': 298.0, u'text': u'Star Trek Into Darkness'},\n",
       "    {u'score': 280.0, u'text': u'Star Trek'},\n",
       "    {u'score': 221.0, u'text': u'Star Wars: Episode I - The Phantom Menace'},\n",
       "    {u'score': 187.0, u'text': u'Star Wars: Episode VI - Return of the Jedi'}],\n",
       "   u'text': u'star'}]}"
      ]
     },
     "execution_count": 28,
     "metadata": {},
     "output_type": "execute_result"
    }
   ],
   "source": [
    "suggest_body = { \"title_completion\": {\n",
    "    \"text\": \"star\",\n",
    "    \"completion\": {\n",
    "        \"field\": \"completion\"}}}\n",
    "        \n",
    "es.suggest(index=\"tmdb\",body=suggest_body)"
   ]
  },
  {
   "cell_type": "markdown",
   "metadata": {},
   "source": [
    "# Post-Search Suggest"
   ]
  },
  {
   "cell_type": "code",
   "execution_count": 33,
   "metadata": {},
   "outputs": [
    {
     "data": {
      "text/plain": [
       "{u'acknowledged': True}"
      ]
     },
     "execution_count": 33,
     "metadata": {},
     "output_type": "execute_result"
    }
   ],
   "source": [
    "try:\n",
    "    es.indices.delete(\"tmdb\")\n",
    "except:\n",
    "    pass\n",
    "\n",
    "#create index here?\n",
    "# genres.name needs to be keyword tokenized so that 'science fiction' doesn't get split on white space\n",
    "# maybe create a text field with title and overview to search against\n",
    "body = {\n",
    "    \"mappings\": {\n",
    "      \"movie\": {\n",
    "        \"properties\": {\n",
    "          \"genres\": {\n",
    "            \"properties\": {\n",
    "              \"name\": { \n",
    "                \"type\": \"string\",\n",
    "                \"index\": \"not_analyzed\"}}},\n",
    "          \"title\": {\n",
    "            \"type\": \"string\",\n",
    "            \"analyzer\": \"english\",\n",
    "            \"copy_to\":[\"suggestion\"]},\n",
    "          \"suggestion\": {\n",
    "            \"type\": \"string\"}}}}}\n",
    "es.indices.create(\"tmdb\",body=body)"
   ]
  },
  {
   "cell_type": "code",
   "execution_count": 34,
   "metadata": {},
   "outputs": [],
   "source": [
    "#doc indexer\n",
    "def format_doc(doc):\n",
    "    action = {\n",
    "        \"_index\": \"tmdb\",\n",
    "        \"_type\": \"movie\",\n",
    "        \"_id\": doc['id'],\n",
    "        \"_source\": doc\n",
    "        }\n",
    "    return action\n",
    "\n",
    "def index_movies():\n",
    "    actions = (format_doc(doc) for doc in movies)\n",
    "    results = [details for success,details in helpers.streaming_bulk(es, actions) if not success]\n",
    "    return results"
   ]
  },
  {
   "cell_type": "code",
   "execution_count": 35,
   "metadata": {},
   "outputs": [],
   "source": [
    "results = index_movies()"
   ]
  },
  {
   "cell_type": "code",
   "execution_count": 36,
   "metadata": {},
   "outputs": [
    {
     "data": {
      "text/plain": [
       "{u'_shards': {u'failed': 0, u'successful': 5, u'total': 5},\n",
       " u'title_suggestion': [{u'length': 9,\n",
       "   u'offset': 0,\n",
       "   u'options': [{u'score': 0.011547032, u'text': u'star trek'}],\n",
       "   u'text': u'star trec'}]}"
      ]
     },
     "execution_count": 36,
     "metadata": {},
     "output_type": "execute_result"
    }
   ],
   "source": [
    "suggest_body = { \"title_suggestion\": {\n",
    "    \"text\": \"star trec\",\n",
    "    \"phrase\": {\n",
    "        \"field\": \"suggestion\"}}}\n",
    "        \n",
    "es.suggest(index=\"tmdb\",body=suggest_body)"
   ]
  },
  {
   "cell_type": "code",
   "execution_count": 37,
   "metadata": {},
   "outputs": [
    {
     "ename": "TransportError",
     "evalue": "TransportError(500, {u'failed_shards': [{u'node': u'RV0cM6ZmQM-qnS0cMMp9xQ', u'index': u'tmdb', u'reason': {u'reason': u'unexpected field [match_phrase]', u'type': u'script_parse_exception'}, u'shard': 0}], u'root_cause': [{u'reason': u'unexpected field [match_phrase]', u'type': u'script_parse_exception'}], u'grouped': True, u'reason': u'all shards failed', u'phase': u'query', u'type': u'search_phase_execution_exception'})",
     "output_type": "error",
     "traceback": [
      "\u001b[1;31m---------------------------------------------------------------------------\u001b[0m",
      "\u001b[1;31mTransportError\u001b[0m                            Traceback (most recent call last)",
      "\u001b[1;32m<ipython-input-37-2b3d965d0b63>\u001b[0m in \u001b[0;36m<module>\u001b[1;34m()\u001b[0m\n\u001b[0;32m     16\u001b[0m         }}}}}}\n\u001b[0;32m     17\u001b[0m \u001b[1;33m\u001b[0m\u001b[0m\n\u001b[1;32m---> 18\u001b[1;33m \u001b[0mes\u001b[0m\u001b[1;33m.\u001b[0m\u001b[0msearch\u001b[0m\u001b[1;33m(\u001b[0m\u001b[0mindex\u001b[0m\u001b[1;33m=\u001b[0m\u001b[1;34m\"tmdb\"\u001b[0m\u001b[1;33m,\u001b[0m\u001b[0mbody\u001b[0m\u001b[1;33m=\u001b[0m\u001b[0mquery_body\u001b[0m\u001b[1;33m,\u001b[0m\u001b[0msize\u001b[0m\u001b[1;33m=\u001b[0m\u001b[1;36m2\u001b[0m\u001b[1;33m)\u001b[0m\u001b[1;33m\u001b[0m\u001b[0m\n\u001b[0m",
      "\u001b[1;32mf:\\development\\relevant-search-book\\venv\\lib\\site-packages\\elasticsearch\\client\\utils.pyc\u001b[0m in \u001b[0;36m_wrapped\u001b[1;34m(*args, **kwargs)\u001b[0m\n\u001b[0;32m     68\u001b[0m             \u001b[1;32mif\u001b[0m \u001b[1;34m'ignore'\u001b[0m \u001b[1;32min\u001b[0m \u001b[0mkwargs\u001b[0m\u001b[1;33m:\u001b[0m\u001b[1;33m\u001b[0m\u001b[0m\n\u001b[0;32m     69\u001b[0m                 \u001b[0mparams\u001b[0m\u001b[1;33m[\u001b[0m\u001b[1;34m'ignore'\u001b[0m\u001b[1;33m]\u001b[0m \u001b[1;33m=\u001b[0m \u001b[0mkwargs\u001b[0m\u001b[1;33m.\u001b[0m\u001b[0mpop\u001b[0m\u001b[1;33m(\u001b[0m\u001b[1;34m'ignore'\u001b[0m\u001b[1;33m)\u001b[0m\u001b[1;33m\u001b[0m\u001b[0m\n\u001b[1;32m---> 70\u001b[1;33m             \u001b[1;32mreturn\u001b[0m \u001b[0mfunc\u001b[0m\u001b[1;33m(\u001b[0m\u001b[1;33m*\u001b[0m\u001b[0margs\u001b[0m\u001b[1;33m,\u001b[0m \u001b[0mparams\u001b[0m\u001b[1;33m=\u001b[0m\u001b[0mparams\u001b[0m\u001b[1;33m,\u001b[0m \u001b[1;33m**\u001b[0m\u001b[0mkwargs\u001b[0m\u001b[1;33m)\u001b[0m\u001b[1;33m\u001b[0m\u001b[0m\n\u001b[0m\u001b[0;32m     71\u001b[0m         \u001b[1;32mreturn\u001b[0m \u001b[0m_wrapped\u001b[0m\u001b[1;33m\u001b[0m\u001b[0m\n\u001b[0;32m     72\u001b[0m     \u001b[1;32mreturn\u001b[0m \u001b[0m_wrapper\u001b[0m\u001b[1;33m\u001b[0m\u001b[0m\n",
      "\u001b[1;32mf:\\development\\relevant-search-book\\venv\\lib\\site-packages\\elasticsearch\\client\\__init__.pyc\u001b[0m in \u001b[0;36msearch\u001b[1;34m(self, index, doc_type, body, params)\u001b[0m\n\u001b[0;32m    427\u001b[0m             \u001b[0mindex\u001b[0m \u001b[1;33m=\u001b[0m \u001b[1;34m'_all'\u001b[0m\u001b[1;33m\u001b[0m\u001b[0m\n\u001b[0;32m    428\u001b[0m         _, data = self.transport.perform_request('GET', _make_path(index, doc_type, '_search'),\n\u001b[1;32m--> 429\u001b[1;33m             params=params, body=body)\n\u001b[0m\u001b[0;32m    430\u001b[0m         \u001b[1;32mreturn\u001b[0m \u001b[0mdata\u001b[0m\u001b[1;33m\u001b[0m\u001b[0m\n\u001b[0;32m    431\u001b[0m \u001b[1;33m\u001b[0m\u001b[0m\n",
      "\u001b[1;32mf:\\development\\relevant-search-book\\venv\\lib\\site-packages\\elasticsearch\\transport.pyc\u001b[0m in \u001b[0;36mperform_request\u001b[1;34m(self, method, url, params, body)\u001b[0m\n\u001b[0;32m    272\u001b[0m \u001b[1;33m\u001b[0m\u001b[0m\n\u001b[0;32m    273\u001b[0m             \u001b[1;32mtry\u001b[0m\u001b[1;33m:\u001b[0m\u001b[1;33m\u001b[0m\u001b[0m\n\u001b[1;32m--> 274\u001b[1;33m                 \u001b[0mstatus\u001b[0m\u001b[1;33m,\u001b[0m \u001b[0mheaders\u001b[0m\u001b[1;33m,\u001b[0m \u001b[0mdata\u001b[0m \u001b[1;33m=\u001b[0m \u001b[0mconnection\u001b[0m\u001b[1;33m.\u001b[0m\u001b[0mperform_request\u001b[0m\u001b[1;33m(\u001b[0m\u001b[0mmethod\u001b[0m\u001b[1;33m,\u001b[0m \u001b[0murl\u001b[0m\u001b[1;33m,\u001b[0m \u001b[0mparams\u001b[0m\u001b[1;33m,\u001b[0m \u001b[0mbody\u001b[0m\u001b[1;33m,\u001b[0m \u001b[0mignore\u001b[0m\u001b[1;33m=\u001b[0m\u001b[0mignore\u001b[0m\u001b[1;33m)\u001b[0m\u001b[1;33m\u001b[0m\u001b[0m\n\u001b[0m\u001b[0;32m    275\u001b[0m             \u001b[1;32mexcept\u001b[0m \u001b[0mConnectionError\u001b[0m\u001b[1;33m:\u001b[0m\u001b[1;33m\u001b[0m\u001b[0m\n\u001b[0;32m    276\u001b[0m                 \u001b[0mself\u001b[0m\u001b[1;33m.\u001b[0m\u001b[0mmark_dead\u001b[0m\u001b[1;33m(\u001b[0m\u001b[0mconnection\u001b[0m\u001b[1;33m)\u001b[0m\u001b[1;33m\u001b[0m\u001b[0m\n",
      "\u001b[1;32mf:\\development\\relevant-search-book\\venv\\lib\\site-packages\\elasticsearch\\connection\\http_urllib3.pyc\u001b[0m in \u001b[0;36mperform_request\u001b[1;34m(self, method, url, params, body, timeout, ignore)\u001b[0m\n\u001b[0;32m     53\u001b[0m         \u001b[1;32mif\u001b[0m \u001b[1;32mnot\u001b[0m \u001b[1;33m(\u001b[0m\u001b[1;36m200\u001b[0m \u001b[1;33m<=\u001b[0m \u001b[0mresponse\u001b[0m\u001b[1;33m.\u001b[0m\u001b[0mstatus\u001b[0m \u001b[1;33m<\u001b[0m \u001b[1;36m300\u001b[0m\u001b[1;33m)\u001b[0m \u001b[1;32mand\u001b[0m \u001b[0mresponse\u001b[0m\u001b[1;33m.\u001b[0m\u001b[0mstatus\u001b[0m \u001b[1;32mnot\u001b[0m \u001b[1;32min\u001b[0m \u001b[0mignore\u001b[0m\u001b[1;33m:\u001b[0m\u001b[1;33m\u001b[0m\u001b[0m\n\u001b[0;32m     54\u001b[0m             \u001b[0mself\u001b[0m\u001b[1;33m.\u001b[0m\u001b[0mlog_request_fail\u001b[0m\u001b[1;33m(\u001b[0m\u001b[0mmethod\u001b[0m\u001b[1;33m,\u001b[0m \u001b[0murl\u001b[0m\u001b[1;33m,\u001b[0m \u001b[0mbody\u001b[0m\u001b[1;33m,\u001b[0m \u001b[0mduration\u001b[0m\u001b[1;33m,\u001b[0m \u001b[0mresponse\u001b[0m\u001b[1;33m.\u001b[0m\u001b[0mstatus\u001b[0m\u001b[1;33m)\u001b[0m\u001b[1;33m\u001b[0m\u001b[0m\n\u001b[1;32m---> 55\u001b[1;33m             \u001b[0mself\u001b[0m\u001b[1;33m.\u001b[0m\u001b[0m_raise_error\u001b[0m\u001b[1;33m(\u001b[0m\u001b[0mresponse\u001b[0m\u001b[1;33m.\u001b[0m\u001b[0mstatus\u001b[0m\u001b[1;33m,\u001b[0m \u001b[0mraw_data\u001b[0m\u001b[1;33m)\u001b[0m\u001b[1;33m\u001b[0m\u001b[0m\n\u001b[0m\u001b[0;32m     56\u001b[0m \u001b[1;33m\u001b[0m\u001b[0m\n\u001b[0;32m     57\u001b[0m         self.log_request_success(method, full_url, url, body, response.status,\n",
      "\u001b[1;32mf:\\development\\relevant-search-book\\venv\\lib\\site-packages\\elasticsearch\\connection\\base.pyc\u001b[0m in \u001b[0;36m_raise_error\u001b[1;34m(self, status_code, raw_data)\u001b[0m\n\u001b[0;32m     81\u001b[0m             \u001b[1;32mpass\u001b[0m\u001b[1;33m\u001b[0m\u001b[0m\n\u001b[0;32m     82\u001b[0m \u001b[1;33m\u001b[0m\u001b[0m\n\u001b[1;32m---> 83\u001b[1;33m         \u001b[1;32mraise\u001b[0m \u001b[0mHTTP_EXCEPTIONS\u001b[0m\u001b[1;33m.\u001b[0m\u001b[0mget\u001b[0m\u001b[1;33m(\u001b[0m\u001b[0mstatus_code\u001b[0m\u001b[1;33m,\u001b[0m \u001b[0mTransportError\u001b[0m\u001b[1;33m)\u001b[0m\u001b[1;33m(\u001b[0m\u001b[0mstatus_code\u001b[0m\u001b[1;33m,\u001b[0m \u001b[0merror_message\u001b[0m\u001b[1;33m,\u001b[0m \u001b[0madditional_info\u001b[0m\u001b[1;33m)\u001b[0m\u001b[1;33m\u001b[0m\u001b[0m\n\u001b[0m\u001b[0;32m     84\u001b[0m \u001b[1;33m\u001b[0m\u001b[0m\n\u001b[0;32m     85\u001b[0m \u001b[1;33m\u001b[0m\u001b[0m\n",
      "\u001b[1;31mTransportError\u001b[0m: TransportError(500, {u'failed_shards': [{u'node': u'RV0cM6ZmQM-qnS0cMMp9xQ', u'index': u'tmdb', u'reason': {u'reason': u'unexpected field [match_phrase]', u'type': u'script_parse_exception'}, u'shard': 0}], u'root_cause': [{u'reason': u'unexpected field [match_phrase]', u'type': u'script_parse_exception'}], u'grouped': True, u'reason': u'all shards failed', u'phase': u'query', u'type': u'search_phase_execution_exception'})"
     ]
    }
   ],
   "source": [
    "# Works in Elasticsearch 1.5\n",
    "query_body = { \n",
    "  \"fields\": [\"title\"],\n",
    "  \"query\": {\n",
    "    \"match\": {\"title\":\"star trec\"}},\n",
    "  \"suggest\": { \"title_completion\": {\n",
    "    \"text\": \"star trec\",\n",
    "    \"phrase\": {\n",
    "      \"field\": \"suggestion\",\n",
    "      \"max_errors\": 2,\n",
    "      \"collate\": {\n",
    "        \"query\": { \n",
    "          \"match_phrase\": {\n",
    "            \"title\" : \"{{suggestion}}\"\n",
    "          }\n",
    "        }}}}}}\n",
    "        \n",
    "es.search(index=\"tmdb\",body=query_body,size=2)"
   ]
  },
  {
   "cell_type": "code",
   "execution_count": 38,
   "metadata": {},
   "outputs": [
    {
     "data": {
      "text/plain": [
       "{u'_shards': {u'failed': 0, u'successful': 5, u'total': 5},\n",
       " u'hits': {u'hits': [{u'_id': u'13475',\n",
       "    u'_index': u'tmdb',\n",
       "    u'_score': 0.83896446,\n",
       "    u'_type': u'movie',\n",
       "    u'fields': {u'title': [u'Star Trek']}},\n",
       "   {u'_id': u'222935',\n",
       "    u'_index': u'tmdb',\n",
       "    u'_score': 0.68552226,\n",
       "    u'_type': u'movie',\n",
       "    u'fields': {u'title': [u'The Fault in Our Stars']}}],\n",
       "  u'max_score': 0.83896446,\n",
       "  u'total': 9},\n",
       " u'suggest': {u'title_completion': [{u'length': 9,\n",
       "    u'offset': 0,\n",
       "    u'options': [{u'score': 0.011547032, u'text': u'star trek'}],\n",
       "    u'text': u'star trec'}]},\n",
       " u'timed_out': False,\n",
       " u'took': 7}"
      ]
     },
     "execution_count": 38,
     "metadata": {},
     "output_type": "execute_result"
    }
   ],
   "source": [
    "# Works in Elasticsearch 2.1\n",
    "query_body = { \n",
    "  \"fields\": [\"title\"],\n",
    "  \"query\": {\n",
    "    \"match\": {\"title\":\"star trec\"}},\n",
    "  \"suggest\": { \"title_completion\": {\n",
    "    \"text\": \"star trec\",\n",
    "    \"phrase\": {\n",
    "      \"field\": \"suggestion\",\n",
    "      \"max_errors\": 2,\n",
    "      \"collate\": {\n",
    "        \"query\": { \n",
    "          \"inline\" : {\n",
    "            \"match_phrase\": {\n",
    "              \"title\" : \"{{suggestion}}\"\n",
    "}}}}}}}}\n",
    "\n",
    "es.search(index=\"tmdb\",body=query_body,size=2)"
   ]
  },
  {
   "cell_type": "code",
   "execution_count": null,
   "metadata": {},
   "outputs": [],
   "source": []
  }
 ],
 "metadata": {
  "kernelspec": {
   "display_name": "Python 2",
   "language": "python",
   "name": "python2"
  },
  "language_info": {
   "codemirror_mode": {
    "name": "ipython",
    "version": 2
   },
   "file_extension": ".py",
   "mimetype": "text/x-python",
   "name": "python",
   "nbconvert_exporter": "python",
   "pygments_lexer": "ipython2",
   "version": "2.7.16"
  }
 },
 "nbformat": 4,
 "nbformat_minor": 1
}
